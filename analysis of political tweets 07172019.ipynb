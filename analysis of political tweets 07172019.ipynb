{
 "cells": [
  {
   "cell_type": "markdown",
   "metadata": {},
   "source": [
    "# Data 620 Final Project: Analysis of Political Tweets  \n",
    "\n",
    "Group 6: Alice Friedman, Stephen Jones, Jeff Littlejohn, Jun Pan  \n",
    "July 17, 2019\n",
    "\n",
    "[Video presentation](https://www.youtube.com/watch?v=TpkJAqlYVSk&feature=youtu.be)\n",
    "\n",
    "## Project Summary\n",
    "\n",
    "What makes a social media post popular? What elements cause a Tweet to be liked or shared via retweet? Using a corpus of tweets from users loosely connected to a political candidate, we  aimed to find out. Team 6 worked with a corpus of 100,000+ tweets scraped from the followers of presidential-hopeful Mike Gravel (@mikegravel) on two dates, roughly one-month apart. The corpus was used to:\n",
    "\n",
    "- Perform a detailed [sentiment analysis](https://nbviewer.jupyter.org/github/aliceafriedman/team6_final/blob/master/Final_Project_Sentiment_Analysis.ipynb), investigating which terms were more associated with postive or negative sentiment, and how those terms changed over time\n",
    "\n",
    "- Visualize the data with intricate [word clouds](https://nbviewer.jupyter.org/github/aliceafriedman/team6_final/blob/master/07162019JPFollowersTweetDownloader-final%20version.ipynb)   \n",
    "\n",
    "- Develop a [classification](https://nbviewer.jupyter.org/github/aliceafriedman/team6_final/blob/master/classification.ipynb) model based on tweet text to predict whether a tweet is likely to garner a relatively large number of likes, normalized the number of followers a user has\n",
    "\n",
    "- Develop a [Twitter bot](https://nbviewer.jupyter.org/github/aliceafriedman/team6_final/blob/master/Project%204%20Bad%20Twitter%20Bots%20Jeff_v1.ipynb)   that generates political \"tweets\" based on the corpus\n",
    "\n",
    "\n",
    "\n",
    "## Data Source:  \n",
    "\n",
    "We’ve updated our Project 1 code to pull the text of the tweets and metadata such as number of retweets and likes, as well as decreasing the runtime of the code to maximize our abilty to pull data within the API rate limits. The code generates a \"political tweet\" corpus by collecting the last tweet from each follower of one of the least-well known presidential candidates. Any user following @mikegravel is likely to be fairly engaged in politics, and in fact the corpus shows a remarkable focus on political text.\n",
    "\n",
    "While we’re aware that our sample of tweets is specific to people following a fringe primary candidate and not representative of social media overall or even just “political Twitter” itself, any political candidate curious about the sentiments and topics prevalent among younger, politically engaged users on social media could find an expanded version of our exercise useful in defining a strategy for voter engagement.  \n",
    "\n",
    "Code used to scrape the web is found here: [Data Scraping](https://nbviewer.jupyter.org/github/aliceafriedman/team6_final/blob/master/Data%20Scraping.ipynb)\n",
    "\n",
    "\n",
    "## Links to Analyses\n",
    "Due to the size and complexity of the project, each element of the analysis is presented as a separate notebook.\n",
    "\n",
    "- Part I. [Sentiment Analysis](https://nbviewer.jupyter.org/github/aliceafriedman/team6_final/blob/master/Final_Project_Sentiment_Analysis.ipynb)\n",
    "\n",
    "- Part II. [Data Visualization](https://nbviewer.jupyter.org/github/aliceafriedman/team6_final/blob/master/07162019JPFollowersTweetDownloader-final%20version.ipynb)  \n",
    "\n",
    "- Part III. [Classification](https://nbviewer.jupyter.org/github/aliceafriedman/team6_final/blob/master/classification.ipynb)\n",
    "\n",
    "-  Part IV. [Twitter Bot](https://nbviewer.jupyter.org/github/aliceafriedman/team6_final/blob/master/Project%204%20Bad%20Twitter%20Bots%20Jeff_v1.ipynb)\n"
   ]
  },
  {
   "cell_type": "code",
   "execution_count": null,
   "metadata": {},
   "outputs": [],
   "source": []
  }
 ],
 "metadata": {
  "kernelspec": {
   "display_name": "Python 3",
   "language": "python",
   "name": "python3"
  },
  "language_info": {
   "codemirror_mode": {
    "name": "ipython",
    "version": 3
   },
   "file_extension": ".py",
   "mimetype": "text/x-python",
   "name": "python",
   "nbconvert_exporter": "python",
   "pygments_lexer": "ipython3",
   "version": "3.7.3"
  },
  "toc": {
   "base_numbering": 1,
   "nav_menu": {},
   "number_sections": false,
   "sideBar": true,
   "skip_h1_title": false,
   "title_cell": "Table of Contents",
   "title_sidebar": "Contents",
   "toc_cell": false,
   "toc_position": {},
   "toc_section_display": true,
   "toc_window_display": false
  }
 },
 "nbformat": 4,
 "nbformat_minor": 2
}
